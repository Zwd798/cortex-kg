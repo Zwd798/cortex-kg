{
 "cells": [
  {
   "cell_type": "code",
   "execution_count": 1,
   "id": "e68b55c1-daae-49ce-b5eb-07c479df3534",
   "metadata": {},
   "outputs": [
    {
     "ename": "IndentationError",
     "evalue": "expected an indented block after 'for' statement on line 126 (Search.py, line 127)",
     "output_type": "error",
     "traceback": [
      "Traceback \u001b[0;36m(most recent call last)\u001b[0m:\n",
      "\u001b[0m  File \u001b[1;32m~/miniconda3/envs/phd/lib/python3.12/site-packages/IPython/core/interactiveshell.py:3577\u001b[0m in \u001b[1;35mrun_code\u001b[0m\n    exec(code_obj, self.user_global_ns, self.user_ns)\u001b[0m\n",
      "\u001b[0;36m  Cell \u001b[0;32mIn[1], line 1\u001b[0;36m\n\u001b[0;31m    from Search import Search\u001b[0;36m\n",
      "\u001b[0;36m  File \u001b[0;32m~/niamatzawad/cortex-kg/core/Search.py:127\u001b[0;36m\u001b[0m\n\u001b[0;31m    while i < len(all_texts):\u001b[0m\n\u001b[0m    ^\u001b[0m\n\u001b[0;31mIndentationError\u001b[0m\u001b[0;31m:\u001b[0m expected an indented block after 'for' statement on line 126\n"
     ]
    }
   ],
   "source": [
    "from Search import Search"
   ]
  },
  {
   "cell_type": "code",
   "execution_count": null,
   "id": "46ec8662-99f6-4ce9-99d2-416fdbfed4dc",
   "metadata": {},
   "outputs": [],
   "source": []
  }
 ],
 "metadata": {
  "kernelspec": {
   "display_name": "Python 3 (ipykernel)",
   "language": "python",
   "name": "python3"
  },
  "language_info": {
   "codemirror_mode": {
    "name": "ipython",
    "version": 3
   },
   "file_extension": ".py",
   "mimetype": "text/x-python",
   "name": "python",
   "nbconvert_exporter": "python",
   "pygments_lexer": "ipython3",
   "version": "3.12.2"
  }
 },
 "nbformat": 4,
 "nbformat_minor": 5
}
