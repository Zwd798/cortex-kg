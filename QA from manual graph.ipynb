{
 "cells": [
  {
   "cell_type": "code",
   "execution_count": 1,
   "id": "caaca7fb-2e86-4255-85b6-6b85ba8ed3ca",
   "metadata": {},
   "outputs": [
    {
     "name": "stderr",
     "output_type": "stream",
     "text": [
      "/home/niamatzawad/miniconda3/envs/phd/lib/python3.12/site-packages/tqdm/auto.py:21: TqdmWarning: IProgress not found. Please update jupyter and ipywidgets. See https://ipywidgets.readthedocs.io/en/stable/user_install.html\n",
      "  from .autonotebook import tqdm as notebook_tqdm\n"
     ]
    }
   ],
   "source": [
    "# needed to load the REBEL model\n",
    "from transformers import AutoModelForSeq2SeqLM, AutoTokenizer, pipeline\n",
    "import math\n",
    "import torch\n",
    "\n",
    "# wrapper for wikipedia API\n",
    "import wikipedia\n",
    "\n",
    "# scraping of web articles\n",
    "from newspaper import Article\n",
    "# google news scraping\n",
    "from GoogleNews import GoogleNews\n",
    "\n",
    "# graph visualization\n",
    "from pyvis.network import Network\n",
    "\n",
    "# show HTML in notebook\n",
    "import IPython\n",
    "\n",
    "from keybert import KeyBERT\n",
    "\n",
    "from sentence_transformers import SentenceTransformer\n",
    "import numpy as np\n",
    "import nltk\n",
    "import re\n",
    "from typing import List, Tuple, Union\n",
    "\n",
    "import spacy\n",
    "\n",
    "import inspect\n",
    "import os# disabiguated_reference_liit = np.load('disambiguated_reference_list.npy')\n",
    "\n",
    "import ollama\n",
    "from tqdm import tqdm\n",
    "import time\n",
    "from core.SemanticSimilarity import SemanticSimilarity\n",
    "from core.KG import KG\n",
    "from core.KeywordExtractor import KeywordExtractor\n",
    "\n",
    "import spacy"
   ]
  },
  {
   "cell_type": "code",
   "execution_count": 2,
   "id": "989de484-c496-4b01-b34f-f8e2efd3b42b",
   "metadata": {},
   "outputs": [],
   "source": [
    "    # from sentence_transformers import SentenceTransformer\n",
    "    # from typing import List, Union, Tuple\n",
    "    # import numpy as np\n",
    "    \n",
    "    # class SemanticSimilarity():\n",
    "    #     def __init__(self):\n",
    "    #         self.threshold_value = 0.6\n",
    "    #         self.model = SentenceTransformer(\"all-MiniLM-L6-v2\")\n",
    "    #         self.embedded_reference = []\n",
    "    #         self.disambiguated_reference_list = []\n",
    "    #         self.rels = []\n",
    "    #         self.embedded_rels = []\n",
    "    \n",
    "    #     def generate_reference(self, reference_list):\n",
    "    #         temp = self._populate_embedded_reference(reference_list)\n",
    "    #         x, y = self._disambiguate_reference_list_entities(reference_list, temp)\n",
    "    #         self.disambiguated_reference_list, self.embedded_reference = x, y       \n",
    "    \n",
    "    #     def _populate_embedded_reference(self, reference_list : str) -> List[List[float]] :\n",
    "    #         embedded_reference = []\n",
    "    #         for i, e in enumerate(reference_list):\n",
    "    #             embedded_reference.append(self._get_embedding_token(e))\n",
    "    #         return embedded_reference\n",
    "            \n",
    "    #     def _get_embedding_token(self, phrase):\n",
    "    #         return self.model.encode([phrase])[0]\n",
    "            \n",
    "    #     def _cosine(self, u, v) -> float:\n",
    "    #         return np.dot(u, v) / (np.linalg.norm(u) * np.linalg.norm(v))\n",
    "    \n",
    "    #     def add_entity(self,e):\n",
    "    #         if not self.get_most_similar_entity(e):\n",
    "    #             self.disambiguated_reference_list.append(e)\n",
    "    #             self.embedded_reference.append(self._get_embedding_token(e))\n",
    "    \n",
    "    #     def add_relation(self,r):\n",
    "    #         if not self.get_most_similar_relation(r):\n",
    "    #             self.rels.append(r)\n",
    "    #             self.embedded_rels.append(self._get_embedding_token(r))\n",
    "    \n",
    "    #     def get_most_similar_entity(self, phrase):\n",
    "    #         return self.get_most_similar_word(phrase, task=\"entity\")\n",
    "    \n",
    "    #     def get_most_similar_entities(self, phrase):\n",
    "    #         return self.get_most_similar_word(phrase, task=\"entity\", multiple_words=True)\n",
    "    \n",
    "    #     def get_most_similar_relation(self, phrase):\n",
    "    #         return self.get_most_similar_word(phrase, task=\"relation\")\n",
    "        \n",
    "            \n",
    "    #     def get_most_similar_word(self, phrase, task=\"entity\", multiple_words=False) -> Union[None, str]:\n",
    "    #         query = self._get_embedding_token(phrase)\n",
    "    #         max_score = -999\n",
    "    #         max_index = -1\n",
    "    \n",
    "    #         reference, embedded_reference = [],[]\n",
    "    #         if task==\"entity\":\n",
    "    #             reference = self.disambiguated_reference_list\n",
    "    #             embedded_reference = self.embedded_reference\n",
    "    #         elif task==\"relation\":\n",
    "    #             reference = self.rels\n",
    "    #             embedded_reference = self.embedded_rels\n",
    "    \n",
    "    #         temp_res = []\n",
    "    #         for i, ref in enumerate(embedded_reference):\n",
    "    #             score = self._cosine(query, ref)\n",
    "    #             if score > max_score:\n",
    "    #                 max_score = score\n",
    "    #                 max_index = i\n",
    "                \n",
    "    #             temp_res.append(score)\n",
    "            \n",
    "    #         if not multiple_words:\n",
    "    #             if max_score > self.threshold_value:\n",
    "    #                 return reference[max_index]\n",
    "            \n",
    "    #         else:\n",
    "                \n",
    "    #             multiple_answers = []\n",
    "    #             for i in range(len(temp_res)):\n",
    "    #                 if temp_res[i] > self.threshold_value:\n",
    "    #                     multiple_answers.append(reference[i])\n",
    "    #             return multiple_answers\n",
    "    #         return None\n",
    "        \n",
    "    #     def _get_all_similarity_scores(self, embedded_reference : List):\n",
    "    #         return np.dot(np.array(embedded_reference), np.array(embedded_reference).T)\n",
    "    \n",
    "    #     def _get_similar_entities(self, exclude_index : int, l : List[float]) -> List[Tuple[float,int]]:\n",
    "    #         results = []\n",
    "    #         for i,e in enumerate(l):\n",
    "    #             if i != exclude_index and l[i] >= self.threshold_value:\n",
    "    #                 results.append((l[i],i))\n",
    "    #         return results\n",
    "            \n",
    "    #     def _disambiguate_reference_list_entities(self, reference_list : List, embedded_reference_list : List) -> List[str]:\n",
    "    #         reference_list = self.disambiguated_reference_list + reference_list\n",
    "    #         embedded_reference_list = self.embedded_reference + embedded_reference_list\n",
    "    #         similarity_scores = self._get_all_similarity_scores(embedded_reference_list)\n",
    "    #         dissimilar,dissimilar_embedded, ignore = [],[],[]\n",
    "    #         i = 0\n",
    "    #         while i < len(similarity_scores):\n",
    "    #             if i not in ignore:\n",
    "    #                 current = similarity_scores[i]\n",
    "    #                 max_score_indices = self._get_similar_entities(i, current)\n",
    "    #                 ignore.extend([i for v,i in max_score_indices])\n",
    "    #                 dissimilar_index = min([i] + [j for v,j in max_score_indices]) #Get the lowest index. This is because when we are parsing the second article, we want to keep any similar entities we found in the first article and remove entities any subsequent articles\n",
    "    #                 dissimilar.append(reference_list[dissimilar_index])\n",
    "    #                 dissimilar_embedded.append(embedded_reference_list[dissimilar_index])\n",
    "    #                 # dissimilar.append(max([reference_list[i]] + [reference_list[j] for v,j in max_score_indices])) #assuming larger text carries more information\n",
    "    #             i += 1\n",
    "    \n",
    "    #         return dissimilar, dissimilar_embedded\n"
   ]
  },
  {
   "cell_type": "code",
   "execution_count": 3,
   "id": "243416fd-8319-45b9-a409-ebacff37cecd",
   "metadata": {},
   "outputs": [],
   "source": [
    "disambiguated_reference_list = np.load('disambiguated_reference_list_kg_demo.npy')\n",
    "embedded_reference = np.load('embedded_reference_kg_demo.npy')\n",
    "xs = SemanticSimilarity()\n",
    "xs.embedded_reference = embedded_reference\n",
    "xs.disambiguated_reference_list = disambiguated_reference_list"
   ]
  },
  {
   "cell_type": "code",
   "execution_count": 4,
   "id": "f4403c56-213e-45d3-a0c1-0540cc5e6bc6",
   "metadata": {},
   "outputs": [
    {
     "data": {
      "text/plain": [
       "['administrative judge', 'administrators']"
      ]
     },
     "execution_count": 4,
     "metadata": {},
     "output_type": "execute_result"
    }
   ],
   "source": [
    "xs.get_most_similar_entities(\"administrative_judge\")"
   ]
  },
  {
   "cell_type": "code",
   "execution_count": null,
   "id": "48b21913-0a4f-4d94-bebc-16f1ca29a209",
   "metadata": {},
   "outputs": [],
   "source": []
  },
  {
   "cell_type": "code",
   "execution_count": 5,
   "id": "ff2b68b5-5dd4-4e3a-9b19-84fb8540df98",
   "metadata": {},
   "outputs": [],
   "source": [
    "from py2neo import Graph, Node, Relationship\n",
    "\n",
    "\n",
    "\n",
    "# Connect to the Neo4j database\n",
    "graph = Graph(\"neo4j://localhost:7687\", auth=(\"neo4j\", \"password\"))"
   ]
  },
  {
   "cell_type": "code",
   "execution_count": null,
   "id": "54c704e0-54ae-4dfa-86a3-d3b4f1e09f02",
   "metadata": {},
   "outputs": [],
   "source": []
  },
  {
   "cell_type": "code",
   "execution_count": 6,
   "id": "d090ef23-8164-49c7-979d-30ef7f0e1764",
   "metadata": {},
   "outputs": [
    {
     "data": {
      "text/plain": [
       "['missouri', 'louisiana', 'kentucky state', 'oklahoma', 'alaska', 'austin tex']"
      ]
     },
     "execution_count": 6,
     "metadata": {},
     "output_type": "execute_result"
    }
   ],
   "source": [
    "xs.get_most_similar_entities(\"Texas\")"
   ]
  },
  {
   "cell_type": "code",
   "execution_count": 7,
   "id": "b2669fe8-7b2b-40ee-9d44-6f1a9cb1adf0",
   "metadata": {},
   "outputs": [],
   "source": [
    "kwe = KeywordExtractor()"
   ]
  },
  {
   "cell_type": "code",
   "execution_count": 8,
   "id": "dd9fb59e-5519-40fe-b44f-b474d1b3364c",
   "metadata": {},
   "outputs": [
    {
     "name": "stderr",
     "output_type": "stream",
     "text": [
      "Asking to truncate to max_length but no maximum length is provided and the model has no predefined maximum length. Default to no truncation.\n"
     ]
    },
    {
     "data": {
      "text/plain": [
       "['mr mcgovern']"
      ]
     },
     "execution_count": 8,
     "metadata": {},
     "output_type": "execute_result"
    }
   ],
   "source": [
    "kwe.extract_named_entities(\"What did Mr McGovern say regarding right-to-lifers?\")"
   ]
  },
  {
   "cell_type": "code",
   "execution_count": 19,
   "id": "ee34e5ac-501f-4da6-9da8-195b23395a09",
   "metadata": {},
   "outputs": [],
   "source": [
    "class Search:\n",
    "    def __init__(self, s : SemanticSimilarity, kwe : KeywordExtractor, graph : Graph):\n",
    "        self.s = s\n",
    "        self.kwe = kwe\n",
    "        self.nlp = spacy.load(\"en_core_web_sm\")\n",
    "\n",
    "\n",
    "    def _retrieve_keywords(self, question):\n",
    "        return self.kwe.extract_keywords(question)\n",
    "\n",
    "    def _retrieve_verbs(self, question):\n",
    "        doc = self.nlp(question)\n",
    "        return [token.lemma_ for token in doc if token.pos_ == \"VERB\"]\n",
    "        \n",
    "    def _get_relevant_texts(self, keywords):\n",
    "        all_texts = []\n",
    "        for k in keywords:\n",
    "            graph_entities = self.s.get_most_similar_entities(k)\n",
    "            print(f\"the keywords extracted are {keywords}\")\n",
    "            print('the most similar entitiesb are ')\n",
    "            print(graph_entities)\n",
    "            for graph_entity in graph_entities:\n",
    "                \n",
    "                graph_entity = re.sub(\" \", \"_\", graph_entity)\n",
    "                d = graph.run(f\"MATCH (n:{graph_entity}) RETURN n\").data()\n",
    "                if d:\n",
    "                    nodes = graph.run(f\"MATCH p = (n:{graph_entity})-[r]->(m) WHERE type(r) <> 'filepath' RETURN p,r['text'] as text, type(r) as relationType \").data()\n",
    "                    for n in nodes:\n",
    "                        print(n[])\n",
    "                        print(n['relationType'])\n",
    "                        all_texts.append(n[\"text\"])\n",
    "\n",
    "                    # text = graph.run(f\"MATCH p = (n:{graph_entity})-[r:filepath]->(m) RETURN r['text'] as text \").data()\n",
    "        return all_texts\n",
    "\n",
    "    def get_answers(self, question):\n",
    "        keywords = self._retrieve_keywords(question)\n",
    "        all_texts = self._get_relevant_texts(keywords)\n",
    "        all_texts = [i for i in all_texts if i]\n",
    "        question_verb_phrases = self._retrieve_verbs(question)\n",
    "        print(all_texts)\n",
    "        all_texts =  \"\\n\".join(all_texts)\n",
    "        print(\"Texts\")\n",
    "        print(all_texts)\n",
    "        return ollama.generate('mistral', prompt=f\"Given the question: {question}, generate an answer from the following text. \\n ###The text: {all_texts}\")['response']\n",
    "        \n",
    "\n",
    "    \n",
    "\n",
    "\n",
    "\n",
    "    "
   ]
  },
  {
   "cell_type": "code",
   "execution_count": 20,
   "id": "6ba2783b-c4d8-4b6d-8d7f-d19061d3aa90",
   "metadata": {},
   "outputs": [
    {
     "data": {
      "text/plain": [
       "'president carter'"
      ]
     },
     "execution_count": 20,
     "metadata": {},
     "output_type": "execute_result"
    }
   ],
   "source": [
    "xs.get_most_similar_entity('president carter')"
   ]
  },
  {
   "cell_type": "code",
   "execution_count": 21,
   "id": "b619c999-0157-4956-8351-8f6dc4c6494c",
   "metadata": {},
   "outputs": [
    {
     "data": {
      "text/plain": [
       "['mr gov']"
      ]
     },
     "execution_count": 21,
     "metadata": {},
     "output_type": "execute_result"
    }
   ],
   "source": [
    "xs.get_most_similar_entities('mr mcgovern')"
   ]
  },
  {
   "cell_type": "code",
   "execution_count": 22,
   "id": "516dfba4-51a1-484c-9558-30f4329c7794",
   "metadata": {
    "scrolled": true
   },
   "outputs": [
    {
     "name": "stdout",
     "output_type": "stream",
     "text": [
      "the keywords extracted are ['kristof', 'frank']\n",
      "the most similar entities are \n",
      "[]\n",
      "the keywords extracted are ['kristof', 'frank']\n",
      "the most similar entities are \n",
      "['frank']\n",
      "[]\n",
      "Texts\n",
      "\n"
     ]
    },
    {
     "data": {
      "text/plain": [
       "' Frank S. Kristof is not explicitly mentioned in the provided text. Therefore, I cannot generate an answer based on the given text alone that directly addresses who Frank S. Kristof is. If there is additional context or information about Frank S. Kristof available, please provide it so I can help answer your question.'"
      ]
     },
     "execution_count": 22,
     "metadata": {},
     "output_type": "execute_result"
    }
   ],
   "source": [
    "search_obj = Search(xs, kwe, graph)\n",
    "search_obj.get_answers('Who is Frank S. Kristof?')"
   ]
  },
  {
   "cell_type": "code",
   "execution_count": 23,
   "id": "1b071d2b-3968-4afc-af70-e6eb9651af68",
   "metadata": {},
   "outputs": [
    {
     "name": "stdout",
     "output_type": "stream",
     "text": [
      "the keywords extracted are ['carter', 'president', 'say']\n",
      "the most similar entities are \n",
      "['president carter', 'carter b hors ley']\n",
      "(_2714)-[:hope_for {text: 'Mr. Aiello praised Polish-Americans for their economic and political contributions to the United States and said he hoped the crisis in Poland \"would be resolved within the context of the human rights accords signed at Helsinki.\"'}]->(_3591)\n",
      "(_2714)-[:received {text: 'In an apparent attempt to offset some of the disappointment and criticism among Polish-Americans, Mr. Carter sent Stephen Aiello, his special assistant for ethnic affairs, to a rally in Chicago yesterday.'}]->(_3588)\n",
      "(_2714)-[:revived {text: 'President Carter revived draft registration, but not the draft itself, after the Soviet military intervention in Afghanistan in December 1979.'}]->(_3425)\n",
      "(_2714)-[:addressed {text: 'In one of the incidents, 15 policemen were injured outside Madison Square Garden just before President Carter addressed the Democratic National Convention last night.'}]->(_3196)\n",
      "(_2714)-[:protects {text: 'In Dallas, where he was campaigning last evening, President Carter again defended the registration as a precautionary move.'}]->(_3066)\n",
      "the keywords extracted are ['carter', 'president', 'say']\n",
      "the most similar entities are \n",
      "['reagan administration', 'president franklin roosevelt', 'president carter', 'college president', 'president operating', 'white house']\n",
      "(_2714)-[:hope_for {text: 'Mr. Aiello praised Polish-Americans for their economic and political contributions to the United States and said he hoped the crisis in Poland \"would be resolved within the context of the human rights accords signed at Helsinki.\"'}]->(_3591)\n",
      "(_2714)-[:received {text: 'In an apparent attempt to offset some of the disappointment and criticism among Polish-Americans, Mr. Carter sent Stephen Aiello, his special assistant for ethnic affairs, to a rally in Chicago yesterday.'}]->(_3588)\n",
      "(_2714)-[:revived {text: 'President Carter revived draft registration, but not the draft itself, after the Soviet military intervention in Afghanistan in December 1979.'}]->(_3425)\n",
      "(_2714)-[:addressed {text: 'In one of the incidents, 15 policemen were injured outside Madison Square Garden just before President Carter addressed the Democratic National Convention last night.'}]->(_3196)\n",
      "(_2714)-[:protects {text: 'In Dallas, where he was campaigning last evening, President Carter again defended the registration as a precautionary move.'}]->(_3066)\n",
      "(_3820)-[:plans {text: 'The White House said the President had no plans to see them.'}]->(_3355)\n",
      "the keywords extracted are ['carter', 'president', 'say']\n",
      "the most similar entities are \n",
      "[]\n",
      "['Mr. Aiello praised Polish-Americans for their economic and political contributions to the United States and said he hoped the crisis in Poland \"would be resolved within the context of the human rights accords signed at Helsinki.\"', 'In an apparent attempt to offset some of the disappointment and criticism among Polish-Americans, Mr. Carter sent Stephen Aiello, his special assistant for ethnic affairs, to a rally in Chicago yesterday.', 'President Carter revived draft registration, but not the draft itself, after the Soviet military intervention in Afghanistan in December 1979.', 'In one of the incidents, 15 policemen were injured outside Madison Square Garden just before President Carter addressed the Democratic National Convention last night.', 'In Dallas, where he was campaigning last evening, President Carter again defended the registration as a precautionary move.', 'Mr. Aiello praised Polish-Americans for their economic and political contributions to the United States and said he hoped the crisis in Poland \"would be resolved within the context of the human rights accords signed at Helsinki.\"', 'In an apparent attempt to offset some of the disappointment and criticism among Polish-Americans, Mr. Carter sent Stephen Aiello, his special assistant for ethnic affairs, to a rally in Chicago yesterday.', 'President Carter revived draft registration, but not the draft itself, after the Soviet military intervention in Afghanistan in December 1979.', 'In one of the incidents, 15 policemen were injured outside Madison Square Garden just before President Carter addressed the Democratic National Convention last night.', 'In Dallas, where he was campaigning last evening, President Carter again defended the registration as a precautionary move.', 'The White House said the President had no plans to see them.']\n",
      "Texts\n",
      "Mr. Aiello praised Polish-Americans for their economic and political contributions to the United States and said he hoped the crisis in Poland \"would be resolved within the context of the human rights accords signed at Helsinki.\"\n",
      "In an apparent attempt to offset some of the disappointment and criticism among Polish-Americans, Mr. Carter sent Stephen Aiello, his special assistant for ethnic affairs, to a rally in Chicago yesterday.\n",
      "President Carter revived draft registration, but not the draft itself, after the Soviet military intervention in Afghanistan in December 1979.\n",
      "In one of the incidents, 15 policemen were injured outside Madison Square Garden just before President Carter addressed the Democratic National Convention last night.\n",
      "In Dallas, where he was campaigning last evening, President Carter again defended the registration as a precautionary move.\n",
      "Mr. Aiello praised Polish-Americans for their economic and political contributions to the United States and said he hoped the crisis in Poland \"would be resolved within the context of the human rights accords signed at Helsinki.\"\n",
      "In an apparent attempt to offset some of the disappointment and criticism among Polish-Americans, Mr. Carter sent Stephen Aiello, his special assistant for ethnic affairs, to a rally in Chicago yesterday.\n",
      "President Carter revived draft registration, but not the draft itself, after the Soviet military intervention in Afghanistan in December 1979.\n",
      "In one of the incidents, 15 policemen were injured outside Madison Square Garden just before President Carter addressed the Democratic National Convention last night.\n",
      "In Dallas, where he was campaigning last evening, President Carter again defended the registration as a precautionary move.\n",
      "The White House said the President had no plans to see them.\n"
     ]
    },
    {
     "data": {
      "text/plain": [
       "\" At a rally in Chicago, President Carter's special assistant for ethnic affairs, Stephen Aiello, praised Polish-Americans for their economic and political contributions to the United States and expressed hope that the crisis in Poland would be resolved within the context of the human rights accords signed at Helsinki. The President had previously sent Aiello to the rally as an attempt to address disappointment and criticism among Polish-Americans. In response to the Soviet military intervention in Afghanistan, Carter revived draft registration but not the draft itself. During his campaign in Dallas, Carter once again defended this move as a precautionary measure.\""
      ]
     },
     "execution_count": 23,
     "metadata": {},
     "output_type": "execute_result"
    }
   ],
   "source": [
    "search_obj.get_answers('What did President Carter say?')"
   ]
  },
  {
   "cell_type": "code",
   "execution_count": 32,
   "id": "0c2fb19e-c508-4a63-934c-b0c100d21da8",
   "metadata": {},
   "outputs": [
    {
     "ename": "NameError",
     "evalue": "name 's' is not defined",
     "output_type": "error",
     "traceback": [
      "\u001b[0;31m---------------------------------------------------------------------------\u001b[0m",
      "\u001b[0;31mNameError\u001b[0m                                 Traceback (most recent call last)",
      "Cell \u001b[0;32mIn[32], line 4\u001b[0m\n\u001b[1;32m      2\u001b[0m keywords \u001b[38;5;241m=\u001b[39m kwe\u001b[38;5;241m.\u001b[39mextract_named_entities(question)\n\u001b[1;32m      3\u001b[0m \u001b[38;5;28;01mfor\u001b[39;00m k \u001b[38;5;129;01min\u001b[39;00m keywords:\n\u001b[0;32m----> 4\u001b[0m     graph_entity \u001b[38;5;241m=\u001b[39m \u001b[43ms\u001b[49m\u001b[38;5;241m.\u001b[39mget_most_similar_entity(k)\n\u001b[1;32m      5\u001b[0m     graph_entity \u001b[38;5;241m=\u001b[39m re\u001b[38;5;241m.\u001b[39msub(\u001b[38;5;124m\"\u001b[39m\u001b[38;5;124m \u001b[39m\u001b[38;5;124m\"\u001b[39m, \u001b[38;5;124m\"\u001b[39m\u001b[38;5;124m_\u001b[39m\u001b[38;5;124m\"\u001b[39m, graph_entity)\n\u001b[1;32m      6\u001b[0m     d \u001b[38;5;241m=\u001b[39m graph\u001b[38;5;241m.\u001b[39mrun(\u001b[38;5;124mf\u001b[39m\u001b[38;5;124m\"\u001b[39m\u001b[38;5;124mMATCH (n:\u001b[39m\u001b[38;5;132;01m{\u001b[39;00mgraph_entity\u001b[38;5;132;01m}\u001b[39;00m\u001b[38;5;124m) RETURN n\u001b[39m\u001b[38;5;124m\"\u001b[39m)\u001b[38;5;241m.\u001b[39mdata()\n",
      "\u001b[0;31mNameError\u001b[0m: name 's' is not defined"
     ]
    }
   ],
   "source": [
    "question = \"What did the administrative judge do?\"\n",
    "keywords = kwe.extract_named_entities(question)\n",
    "for k in keywords:\n",
    "    graph_entity = s.get_most_similar_entity(k)\n",
    "    graph_entity = re.sub(\" \", \"_\", graph_entity)\n",
    "    d = graph.run(f\"MATCH (n:{graph_entity}) RETURN n\").data()\n",
    "    if d:\n",
    "        nodes = graph.run(f\"MATCH p = (n:{graph_entity})-[r]->(m) WHERE type(r) <> 'filepath' RETURN p,r['text'] as text \").data()\n",
    "        full_text = \"\"\n",
    "        for n in nodes:\n",
    "            print(n[\"text\"])\n",
    "        print(\"---\")\n",
    "        print(\"the full text:\")\n",
    "        text = graph.run(f\"MATCH p = (n:{graph_entity})-[r:filepath]->(m) RETURN r['text'] as text \").data()\n",
    "        print(len(text))                                                                                                                                                                                                                                                                                                                              \n",
    "\n",
    "\n"
   ]
  },
  {
   "cell_type": "code",
   "execution_count": 162,
   "id": "63fd71e7-95d6-4567-bbe1-7c8e674f53a2",
   "metadata": {},
   "outputs": [
    {
     "name": "stdout",
     "output_type": "stream",
     "text": [
      "Dr. Allan S. Cunningham said that studies at The Mary Imogene Bassett Hospital had shown that bottle-fed babies were hospitalized three times more frequently than breast-fed infants in the first year of life and 15 times more frequently in the first 15 months.\n",
      "Dr. Allan S. Cunningham said that studies at The Mary Imogene Bassett Hospital had shown that bottle-fed babies were hospitalized three times more frequently than breast-fed infants in the first year of life and 15 times more frequently in the first 15 months.\n"
     ]
    }
   ],
   "source": [
    "\n",
    "d = graph.run(\"MATCH (p:allan_cunningham)-[q]->(r) RETURN p,q['text'] as text, r\").data()\n",
    "if d:\n",
    "    for a in d:\n",
    "        print(a[\"text\"])"
   ]
  },
  {
   "cell_type": "code",
   "execution_count": 33,
   "id": "d26ad612-a5a4-4c09-a0e6-5d8c9b5cb622",
   "metadata": {},
   "outputs": [
    {
     "data": {
      "text/plain": [
       "False"
      ]
     },
     "execution_count": 33,
     "metadata": {},
     "output_type": "execute_result"
    }
   ],
   "source": [
    "\"filepath\" in d[0][\"p\"]"
   ]
  },
  {
   "cell_type": "code",
   "execution_count": 27,
   "id": "904ff6e8-bcb5-43d3-a558-5b091d3ee5ab",
   "metadata": {},
   "outputs": [
    {
     "name": "stdout",
     "output_type": "stream",
     "text": [
      "{'p': Path(Node('dave_rogers', id='dave_rogers'), expresses_opinion(Node('dave_rogers', id='dave_rogers'), Node('catholic', id='catholic')))}\n",
      "{'p': Path(Node('dave_rogers', id='dave_rogers'), filepath(Node('dave_rogers', id='dave_rogers'), Node('`/home/niamatzawad/niamatzawad/Datasets/UTDBox/NYT Files/1-1000/NYT-8006042-8006063.TXT`', text=\"\\ufeff\\n                                1 of 8 DOCUMENTS\\n\\n                               The New York Times\\n\\n                 June 22, 1980, Sunday, Late City Final Edition\\n\\nSTRIKE AND MOON GROUP'S ARRIVAL UPSET KODIAK FISHING INDUSTRY\\n\\nBYLINE: By WALLACE TURNER, Special to the New York Times\\n\\nSECTION: Section 1; Part 1; Page 24, Column 1; National Desk\\n\\nLENGTH: 1000 words\\n\\nDATELINE: KODIAK, Alaska, June 18\\n\\n\\nThe sun glitters on a harbor full of fishing boats where nets are being patched,\\nvarnish is being sanded and running gear repaired, and this fishing port appears\\npurposeful and contented.\\n\\nIt is not. The place is tense. The shrimp boat owners are on strike, as are the\\nsalmon fishermen, because the price offered does not suit them. A rich run of\\nred salmon has started, but it will end unharvested here unless the strike is\\nresolved by mid-July.\\n\\nThe processors are disturbed by this, and by the arrival here of followers of\\nthe Rev. Sun Myung Moon who have opened the most modern fish-processing plant in\\ntown, at a cost of $3 million.\\n\\nQuestions Are Being Asked\\n\\nThey fear that when the strike ends the better fishermen will sell to the Moon\\ngroup and the small numbers of cannery and processing plant workers will take\\njobs at their plant. If they do not, and if local fishermen refuse to sell to\\nthe newcomers, the processors are worried about the possibility that the Moon\\nfollowers will bring in their own fleet and their own members as employees.\\n\\n''We have no plan to bring in our own fleet,'' said Dave Rogers, one of the\\nmanagers of International Seafoods Inc., the processing plant that was financed\\nby Mr. Moon's Unification Church. According to Mr. Rogers, the plant's staff of\\n60 will be local labor and 10 of the 60 ''have religious affiliation''; that is,\\nthey belong to the Unification Church.\\n\\n''The church is not here, the cannery is here,'' he added.  Mr. Rogers said the\\nUnification Church money had come into the operation from its nonprofit\\nfoundation, Unification Church International, which put money into a profit\\ncorporation, One Up Inc., which put money into the plant.\\n\\nA Public Outcry\\n\\nWhen the group arrived 18 months ago on this island 100 miles south of the\\nAlaska Peninsula, there was a public outcry. The opposition was based on the\\nchurch's reputation for rigid indoctrination of young converts, as well as on\\nconcern about competition in fishing.\\n\\n''I feel that we are accepted as a company,'' Mr. Rogers said.  ''But there is\\nsentiment against the church.'' ''We have tried to be open and honest,'' he\\nsaid, ''and let people see we are not as our detractors paint us to be.'' A\\nfishing boat captain down on the harbor walkway said, ''I don't think I'd want\\nto sell to them at the same prices as everyone else.  But if they paid more,\\nthey could have my fish.''\\n\\nThe New England Fish Company was the biggest processor around here until it went\\nbankrupt last May. For this community of about 10,000 people, whose subsistence\\nis based almost entirely on harvesting the riches of the North Pacific, the\\nbankruptcy was the near realization of a nightmare.\\n\\nSuppliers went unpaid; so did some fishermen who had already delivered their\\ncatches. They became creditors for thousands of dollars.\\n\\nThe fears eased after the bankruptcy court arranged for others to operate the\\nNew England Fish plants.\\n\\nThe Shrimp Boat Troubles\\n\\nAll is not well with the shrimp boat owners, however. They are in real distress,\\naccording to Al Burch, manager of Alaska Draggers Association, to which the 50\\nshrimp and bottom fishery boats in town belong.\\n\\n''Some of these new boats, 150-footers, cost $1.5 million, and a lot of that is\\nborrowed,'' Mr. Burch said. ''You got a million borrowed at 12 percent and that\\nmeans $10,000 a month just in interest.''\\n\\nThen the big boats, which go considerable distances for shrimp and bottom fish\\nsuch as flounder and sole, burn as much as 40 gallons of diesel fuel an hour. It\\nnow sells at 92 cents a gallon, more than three times the price seven years ago.\\n\\nLast year the shrimpers got 22.5 cents a pound; this year they began by asking\\n38 cents, now have come down to 32.5. The processors have offered 26.\\n\\nThe Japanese Influence\\n\\nAnother thing that has people here worried is the Japanese influence. It was\\ndiscovered five years or so ago that the Japanese had quietly come to control\\nabout 80 percent of the fish processing capacity here by loans, by purchase of\\nstock or by contract.\\n\\nLast year red salmon went up to $1.25 a pound to the fishermen when buyers for\\nthe Japanese fresh frozen market offered them premium prices. But that market\\nhas faded, fishermen are now told, and the offer on red salmon was 40 cents this\\nyear. It was rejected.\\n\\nFish biologists who work for the state of Alaska are saying that this will be a\\nyear of huge salmon runs. The more fish that are caught, the less valuable each\\none will be. Salmon fishing in Alaskan waters is by limited-entry permit that\\nspecifies district and type of equipment. A fixed number of permits were sold in\\n1974 and some have become extremely valuable.\\n\\nThere are 30 permits on Kodiak for fishing with beach seines, which are led into\\nthe water by boat and later swept back to the beach, and each is worth $10,000\\nor so. There are 162 permits for fixed gill nets, which trap fish that swim into\\nthem. The permits are worth $30,000 to $40,000. Finally, there are 380 purse\\nseine permits that are operated off boats, of which the Island Girl is a good\\nexample.\\n\\nSteven Horn, who was born and reared on Kodiak Island, built the Island Girl,\\nhis second salmon seiner, for $160,000 at Seattle two years ago and thinks she\\nwould cost $200,000 today. And his purse seining permit is worth perhaps\\n$75,000.\\n\\nBut as things stand now, he, it and Island Girl are idle - all that investment\\nis idle - while they wait for a price to be agreed upon.  ''Fishing is sort of\\nlike farming,'' said Jeffrey R. Stephan, manager of the United Fishermen's\\nMarketing Association. ''Once in a while you do real well, and then you have a\\nrun of bad years. When you have a good crop, the price falls off.''\\n\\nLANGUAGE: ENGLISH\\n\\nGRAPHIC: Illustrations: photo : aerial view of Kodiak and its harbor\\n\\n                   Copyright 1980 The New York Times Company\\n\\n\\n                                2 of 8 DOCUMENTS\\n\\n                               The New York Times\\n\\n                June 17, 1980, Tuesday, Late City Final Edition\\n\\nSCUFFLES MARK START OF TRIAL IN THE SLAYINGS OF 5 LEFTISTS\\n\\nBYLINE: Special to the New York Times\\n\\nSECTION: Section A; Page 12, Column 1; National Desk\\n\\nLENGTH: 670 words\\n\\nDATELINE: GREENSBORO, N.C., June 16\\n\\n\\nConfrontations involving the Ku Klux Klan, the American Nazi Party, the\\nCommunist Workers Party and this city's law-enforcement officials continued here\\ntoday as murder and rioting trials resulting from a ''Death to the Klan'' rally\\nlast year got under way.\\n\\nViolent clashes at the Nov. 3 rally led to five deaths and at least 20 arrests.\\nIn Superior Courtroom 3C of the Guilford County Judicial Building, jury\\nselection began in the case of six of the Klansmen and Nazis, each charged with\\nfive counts of first-degree murder and one of felonious rioting. Five of their\\nassociates also face charges related to the shooting deaths of five persons at\\nthe rally, charges the prosecutor says involve ''a lesser degree of\\nculpability.'' Three others face riot charges.\\n\\nThe defendants, all of whom have pleaded not guilty, are Jack Wilson Fowler, 27,\\nand Roland Wayne Wood, 34, both of Winston-Salem, N.C.; Lawrence Gene Morgan,\\n27, and Coleman Blair Pridmore, 26, both of Lincolnton, N.C.; Jerry Paul Smith,\\n32, of Maiden, N.C., and David Wayne Matthews, 24, of Newton, N.C. All but Mr.\\nFowler had been free on bond, but while on trial all six will spend week nights\\nacross the street from the courtroom in the county jail.\\n\\nAcross the corridor in the judicial building, in Courtroom 3A, five members of\\nthe Communist Workers Party, a small Maoist organization, were arraigned on\\nfelony riot charges growing out of the November rally.\\n\\nBailiffs Remove Four\\n\\nFour of the five, Nelson N. Johnson, Rand R. Manzella, Allen Blitz and Dorothy\\nD. Blitz, were removed from the courtroom by bailiffs at the order of Judge\\nCharles Kivett after refusing to enter pleas and addressing remarks to the\\njudge, the prosecutor, the press and spectators as the indictments were being\\nread. Court-appointed attorneys entered pleas of not guilty for them. The fifth\\ndefendant, Lacie S. Russell, remained in the courtroom and pleaded not guilty.\\n\\n''This whole thing is a sham,'' shouted Mr. Johnson, who suffered stab wounds at\\nthe November rally. He is charged, in part, with ''possession of a deadly\\nweapon, a wooden stick.''\\n\\nBefore the arraignment, while Judge James M. Long was addressing a group of\\napproximately 100 prospective jurors in the murder trial, a scuffle broke out in\\nthe hallway between the two chambers as members of the Communist Workers Party\\nand their supporters tried to enter Judge Long's courtroom.\\n\\nBailiffs offered to allow two family members of each of the five slain radicals\\nin the chamber. They refused to admit others, including Dr. Paul Bermanzohn, who\\nwas critically wounded at the rally and was sitting in a wheelchair.\\n\\nShouting and Chanting\\n\\nJudge Long was interrupted by the sound of shouting and then chanting in the\\ncorridor as he was explaining to the prospective jurors, part of a pool of 1,000\\ncalled by the county, that he expected the trial to be a long one, but that they\\nwould not have to be sequestered.\\n\\nAnti-Klan slogans and a chant of ''Let the families in!'' could be heard in the\\nchamber for the next five minutes. Four of the Communists in the hallway were\\ncharged with disorderly conduct and jailed in lieu of $500 bond each.\\n\\nJudge Long had said before the trial that he would restrict access to the\\n148-seat courtroom, noting that ''these cases may at times be emotionally\\ncharged.''\\n\\nMichael Schlosser, the Guilford County District Attorney, who shuttled between\\nthe two courtrooms this morning, argued in pretrial hearings this spring that\\nthe initial taunts and the first shots at the fatal rally had come from a\\nKlan-Nazi motorcade that had driven into the rally staging area while under\\npolice surveillance. He noted that the Communist Workers Party had challenged\\nthe Klan to be present at the rally in Greensboro's predominantly black\\nMorningside Homes section, and that on that occasion a number of the left-wing\\nradicals carried concealed weapons.\\n\\nThe victims of the shootings were Dr. Michael Nathan, William Sampson, James\\nWaller, Sandra Smith, and Cesar Cauce.\\n\\nLANGUAGE: ENGLISH\\n\\nGRAPHIC: Illustrations: photo of struggles with Communist Worker Party\\ndemonstrators\\n\\n                   Copyright 1980 The New York Times Company\\n\\n\\n                                3 of 8 DOCUMENTS\\n\\n                               The New York Times\\n\\n               June 18, 1980, Wednesday, Late City Final Edition\\n\\nCommunist Group Outnumbered By Foes in Alamo Confrontation\\n\\nBYLINE: AP\\n\\nSECTION: Section A; Page 20, Column 4; National Desk\\n\\nLENGTH: 110 words\\n\\nDATELINE: SAN ANTONIO, Tex., June 17\\n\\n\\nAbout 20 Communists chanting and waving red banners in a rally outside the Alamo\\ntoday were outnumbered by 200 bystanders waving American flags and singing ''God\\nBless America.''\\n\\nThe Revolutionary Communist Party organized the demonstration in conjunction\\nwith opening of the municipal court trial of five party members, who were\\ncharged with disorderly conduct after a protest March 20 on the roof of the\\nhistoric mission-fortress.\\n\\nThree Houston members of the Maoist party scaled the walls of the downtown\\nshrine on March 20, replaced the Texas flag with an all-red banner and shouted\\nrevolutionary slogans for about 40 minutes before being arrested.\\n\\nLANGUAGE: ENGLISH\\n\\n                   Copyright 1980 The New York Times Company\\n\\n\\n                                4 of 8 DOCUMENTS\\n\\n                               The New York Times\\n\\n               June 18, 1980, Wednesday, Late City Final Edition\\n\\nCARPENTERS' STRIKE IDLES 30,000 IN NORTHERN CALIFORNIA\\n\\nBYLINE: AP\\n\\nSECTION: Section A; Page 14, Column 3; National Desk\\n\\nLENGTH: 337 words\\n\\nDATELINE: SAN FRANCISCO, June 17\\n\\n\\nA carpenters' strike spread to at least 30,000 construction workers in northern\\nCalifornia today, dealing another blow to an industry crippled by the recession.\\nAmong projects idled was a $68 million restoration of the Statehouse.\\n\\nMost nonresidential projects in 46 counties were shut down by the strike, which\\nunion officials said might ultimately involve 100,000 laborers.\\n\\nWorkers, including 6,000 carpenters and building trades employees honoring\\npicket lines, began walking off the job yesterday as union officials argued with\\nthe Associated General Contractors over the use of nonunion labor.\\n\\nJohn Ribeiro, a negotiator for the 8,000-member United Brotherhood of Carpenters\\nfor America, said the union wanted an agreement that would obligate\\nsubcontractors to hire union carpenters.\\n\\nRichard Munn, executive vice president of the contractors' group, said the\\nassociation had agreed to force members who used carpenters either to sign the\\nagreement or resign from the association. But he said the organization had no\\nlegal control over subcontractors employed by those contractors outside the\\nbargaining agreement.\\n\\n12.5% Pay Rise Likely\\n\\nSpokesmen for both sides expect wage terms being negotiated to parallel those\\nthe union negotiated with the Homebuilders Association of Northern California: a\\n12.5 percent raise to $15 an hour.\\n\\nAmong projects halted the day after the carpenters' contract with the\\ncontractors expired Sunday was the glass-and-concrete Performing Arts Center in\\nSan Francisco. The $38.5 million center was to be ready for the 1980-81 symphony\\nseason in September.\\n\\nAlso struck was San Francisco's $115 million Moscone Convention Center here,\\nnamed for the city's slain Mayor, George Moscone. In Sacramento, work stopped on\\nthe $150 million Sacramento County sewage disposal plant and the long-awaited\\nStatehouse restoration.\\n\\nThe recession has already had a serious impact on the building industry, with\\nnew housing construction this year down about 50 percent from that of last year.\\n\\nLANGUAGE: ENGLISH\\n\\n                   Copyright 1980 The New York Times Company\\n\\n\\n                                5 of 8 DOCUMENTS\\n\\n                               The New York Times\\n\\n                June 19, 1980, Thursday, Late City Final Edition\\n\\nINQUIRY ON 3 MEN IN CAR REOPENED IN JORDAN SHOOTING\\n\\nSECTION: Section A; Page 16, Column 1; National Desk\\n\\nLENGTH: 444 words\\n\\nDATELINE: FORT WAYNE, Ind., June 18\\n\\n\\nThe Federal Bureau of Investigation has reopened a line of inquiry in the Vernon\\nJordan shooting that involves three men in a car who reportedly harassed Mr.\\nJordan and a companion.\\n\\nMr. Jordan, president of the National Urban League, was hit in the back by a\\n.30-06 rifle bullet and seriously wounded early on May 29 in the parking lot of\\nthe Marriott Inn here.\\n\\nHis companion, Martha C. Coleman, a local Urban League official, told the police\\nthat a few minutes before the shooting three white men in an early 1960's model\\nChevrolet stopped beside her car as she and Mr. Jordan waited for a light. She\\nsaid the men shouted racial slurs. Mr. Jordan is black and Mrs. Coleman white.\\n\\nThe car then sped off and pulled into the parking lot of a restaurant, she told\\nthe authorities. Law-enforcement officials said later that there was not time\\nenough for the hecklers to have reached the motel and got into position to shoot\\nMr. Jordan.\\n\\nBut today an F.B.I. spokesman, Kenneth Ivan, said that a reenactment showed that\\nthere had been enough time. Mr. Ivan said that agents did not know who the men\\nin the car were.\\n\\nFour agents, using two cars, re-enacted the drive last night. Mr.  Ivan drove\\nthe car that was following the substitute for Mrs.  Coleman's car, he said.\\n\\nParked Near Ramp\\n\\nMr. Ivan said he sped through the parking lot of the restaurant, swerved back\\nonto the road and followed the other car.  When the lead car parked at the\\nmotel, in plain view of the road, Mr. Ivan said, he drove across Interstate 69\\nonto a ramp and parked.  The ramp is beside the place where the police think the\\nsniper lay in the grass and shot Mr. Jordan. Two witnesses have said they saw a\\ncar parked there at the time of the shooting.\\n\\nMr. Ivan said it took him two and a half minutes to get from his parked car and\\ninto the position from which the sniper fired. That could have been enough time\\nbecause Mrs. Coleman has told the police she and Mr. Jordan sat in the car for\\ntwo to five minutes before he got out and was shot.\\n\\n''If you were a couple of drunks and you saw someone you wanted to shoot, you\\nwould have driven a lot faster than I did,'' Mr. Ivan said.\\n\\nHe continued, ''Assuming the three men did follow and shoot Jordan, it would\\nfill two large holes in the investigation. It would provide a motive - three men\\nprobably angered by seeing Coleman, a white woman, with Jordan, a black man. And\\nit would also answer how the sniper knew where Jordan's room was located.''\\n\\nMr. Jordan, after being treated in Fort Wayne, was flown to New York, where he\\nwas reported to be in serious but stable condition today at New York\\nHospital-Cornell Medical Center.\\n\\nLANGUAGE: ENGLISH\\n\\n                   Copyright 1980 The New York Times Company\\n\\n\\n                                6 of 8 DOCUMENTS\\n\\n                               The New York Times\\n\\n                 June 22, 1980, Sunday, Late City Final Edition\\n\\nChurch Used by Jews Vandalized\\n\\nBYLINE: AP\\n\\nSECTION: Section 1; Part 1; Page 21, Column 6; National Desk\\n\\nLENGTH: 54 words\\n\\nDATELINE: VALENCIA, Calif., June 21\\n\\n\\nA Methodist church that is also used by a small Jewish congregation was\\nvandalized yesterday, the authorities said. Dr. Kenneth G. Heaton, pastor of the\\nUnited Methodist Church of Valencia, said the vandals painted swastikas and\\nracist slogans on the wall.\\n\\nLANGUAGE: ENGLISH\\n\\n                   Copyright 1980 The New York Times Company\\n\\n\\n                                7 of 8 DOCUMENTS\\n\\n                               The New York Times\\n\\n                June 24, 1980, Tuesday, Late City Final Edition\\n\\nSOVIET EMIGRES TRY U.S.-STYLE PROTEST:2 SCIENTISTS ASSAILED IN MARCH IN\\n\\nSECTION: Section A; Page 12, Column 3; National Desk\\n\\nLENGTH: 684 words\\n\\n\\nBOSTON\\n\\nBy MICHAEL KNIGHT\\n\\nBOSTON, June 23 - What is thought to be the first public protest demonstration\\nby dissident Soviet emigres in this country went smoothly, although somewhat\\nawkwardly, here today.\\n\\nThe two dozen or so people carrying placards and handing out leaflets protesting\\nthe appearance of two Nobel Prize-winning Soviet physicists at an international\\nconference on laser research was, for Boston, just another lunchtime sidewalk\\ndemonstration.\\n\\nBut for the Soviet immigrant community, the protest against the presence of N.G.\\nBasov and A.M. Prokhorov was a major step out of the shadows of reticence and\\nfear and into the unaccustomed limelight of publicity.\\n\\n''Here and there individuals have participated in demonstrations organized by\\nJewish groups, but this is the first time political dissidents have done\\nanything in public before,'' said one dissident, a mechanical engineer who used\\nthe assumed name of Shapiro for fear of involving relatives still in the Soviet\\nUnion.\\n\\n'Time to Be Politically Active'\\n\\n''It is time for us to be politically active now,'' he added. ''We have been\\nhere a few years, we are settled and know the country a bit, we have jobs and\\nlife is not so hard any more.''\\n\\nThe demonstrators, organized as the Association of Immigrants from the U.S.S.R.,\\nwere aided by members of the Boston chapter of the Jewish Community Council who\\nran off releases and leaflets, negotiated for sidewalk space with mounted\\npolicemen and tried to keep the demonstrators moving in a circle.\\n\\nDespite their efforts, the newness to the dissidents of public, rather than\\nwritten, protest was apparent. Placards often drooped, voices were subdued and\\nfrom time to time the marching line disintegrated into discussion-filled knots.\\n\\n''Mostly they just need moral support, not having done this kind of thing\\nmuch,'' explained Barbara Katz, a member of the council's committee on Soviet\\nJewry.\\n\\nMiss Katz said that most of the approximately 2,000 Soviet immigrants in the\\nBoston area were Jews fleeing Soviet anti-Semitism, but that small numbers were\\npolitical dissidents who had either been expelled or allowed to emigrate as a\\nresult of broader human-rights protests.\\n\\nThe demonstration's target was the presence at the 11th Quantum Electronics\\nConference at the Sheraton Hotel here of Mr. Basov and Mr. Prokhorov, who shared\\na Nobel Prize in 1964 for their work in developing laser devices.\\n\\nThe protesters marched outside the hotel, handed out leaflets, sought petition\\nsignatures in the hotel lobby and debated officials of the conference, which is\\nheld every two years.\\n\\nThe Soviet scientists, both officials of the Lebedev Physical Institute in\\nMoscow, stayed out of sight, as did any secret police escort they may have had.\\n\\nAccording to Rima Zolina, who emigrated in 1975 and is now an editor here, the\\ntwo scientists were chosen as the object of the protest because ''they are very\\nwell known to American scientists and very well known, or ill-famed, in the\\nSoviet Union.'' She said the two had participated in denunciations of Andrei D.\\nSakharov, the physicist and human rights activist, and contributed to his exile\\nin the remote city of Gorky.\\n\\n''I'm not opposed to exchanges between the two nations,'' Miss Zolina said.\\n''But everything the Soviets do is just pretend, to make believe they are giving\\nhuman rights while they get information and recognition. All America gets is a\\nprofit for the businessmen, who are selling their country for a profit, just as\\nLenin said they would.''\\n\\nMarlin Scully, a researcher at the Max Planck Institute in Munich, West\\nGerma@ny, and at the University of New Mexico and a co-chairman of the\\nconvention, said that the group had resisted calls to bar the two Soviet\\nscientists.\\n\\n''This is an international conference and as such it has to maintain its\\ninternational flavor to maintain its integrity,'' he said after a sidewalk\\ndebate with the protesters. ''We feel these conferences are a real service to\\nscience and humanity by bringing people together who already have a common bond\\nand creating a friendly spirit.''\\n\\nLANGUAGE: ENGLISH\\n\\nGRAPHIC: Illustrations: photo of demonstrating Soviets\\n\\n                   Copyright 1980 The New York Times Company\\n\\n\\n                                8 of 8 DOCUMENTS\\n\\n                               The New York Times\\n\\n               June 25, 1980, Wednesday, Late City Final Edition\\n\\nA.C.L.U. Seeks to Stay Execution of Georgian\\n\\nBYLINE: AP\\n\\nSECTION: Section A; Page 22, Column 1; National Desk\\n\\nLENGTH: 171 words\\n\\nDATELINE: ATLANTA, June 24\\n\\n\\nThe American Civil Liberties Union asked a Federal judge today to stop the\\nexecution of Jack Potts, a convicted murderer who is scheduled to die in\\nGeorgia's electric chair next Tuesday.\\n\\nThe petition marks the second time the civil rights group has attempted to halt\\nthe execution, which Mr. Potts says he wants carried out.\\n\\nOn June 4, a day before the condemned man was earlier scheduled to die, Federal\\nDistrict Judge William C. O'Kelley denied the A.C.L.U.'S request to stay the\\nexecution and win recognition for a cousin and a minister to intervene in the\\ncase as next friends for Mr. Potts.  Next-friend status gives a person the right\\nto file legal action for a person who is found to be incompetent to handle his\\nown legal affairs.\\n\\nLater that day, however, Judge O'Kelley signed a stay of execution when Mr.\\nPotts authorized other attorneys to renew his appeals. But the condemned man\\nreversed himself the next day, and subsequently persuaded the judge to drop the\\nstay and allow a new execution date to be set.\\n\\nLANGUAGE: ENGLISH\\n\\n                   Copyright 1980 The New York Times Company\\n\")))}\n",
      "{'p': Path(Node('dave_rogers', id='dave_rogers'), says_company_is_accepted(Node('dave_rogers', id='dave_rogers'), Node('community', id='community')))}\n"
     ]
    }
   ],
   "source": [
    "for en in d:\n",
    "    print(en)\n",
    "    if \"filepath\" in en:\n",
    "        print(en[\"text\"])\n",
    "        break"
   ]
  },
  {
   "cell_type": "code",
   "execution_count": 149,
   "id": "c85333a6-d2ec-4ad4-9be4-3a922dc55f7a",
   "metadata": {},
   "outputs": [
    {
     "ename": "ServiceUnavailable",
     "evalue": "Cannot connect to any known routers",
     "output_type": "error",
     "traceback": [
      "\u001b[0;31m---------------------------------------------------------------------------\u001b[0m",
      "\u001b[0;31mServiceUnavailable\u001b[0m                        Traceback (most recent call last)",
      "Cell \u001b[0;32mIn[149], line 1\u001b[0m\n\u001b[0;32m----> 1\u001b[0m \u001b[43mgraph\u001b[49m\u001b[38;5;241;43m.\u001b[39;49m\u001b[43mrun\u001b[49m\u001b[43m(\u001b[49m\u001b[38;5;124;43mf\u001b[39;49m\u001b[38;5;124;43m\"\u001b[39;49m\u001b[38;5;124;43mMATCH (n:\u001b[39;49m\u001b[38;5;132;43;01m{\u001b[39;49;00m\u001b[43ms\u001b[49m\u001b[38;5;241;43m.\u001b[39;49m\u001b[43mget_most_similar_entity\u001b[49m\u001b[43m(\u001b[49m\u001b[38;5;124;43m\"\u001b[39;49m\u001b[38;5;124;43mAlfred B. DelBello\u001b[39;49m\u001b[38;5;124;43m\"\u001b[39;49m\u001b[43m)\u001b[49m\u001b[38;5;132;43;01m}\u001b[39;49;00m\u001b[38;5;124;43m) RETURN n;\u001b[39;49m\u001b[38;5;124;43m\"\u001b[39;49m\u001b[43m)\u001b[49m\u001b[38;5;241m.\u001b[39mdata()\n",
      "File \u001b[0;32m~/miniconda3/envs/phd/lib/python3.12/site-packages/py2neo/database.py:405\u001b[0m, in \u001b[0;36mGraph.run\u001b[0;34m(self, cypher, parameters, **kwparameters)\u001b[0m\n\u001b[1;32m    395\u001b[0m \u001b[38;5;28;01mdef\u001b[39;00m \u001b[38;5;21mrun\u001b[39m(\u001b[38;5;28mself\u001b[39m, cypher, parameters\u001b[38;5;241m=\u001b[39m\u001b[38;5;28;01mNone\u001b[39;00m, \u001b[38;5;241m*\u001b[39m\u001b[38;5;241m*\u001b[39mkwparameters):\n\u001b[1;32m    396\u001b[0m \u001b[38;5;250m    \u001b[39m\u001b[38;5;124;03m\"\"\" Run a single read/write query within an auto-commit\u001b[39;00m\n\u001b[1;32m    397\u001b[0m \u001b[38;5;124;03m    :class:`~py2neo.Transaction`.\u001b[39;00m\n\u001b[1;32m    398\u001b[0m \n\u001b[0;32m   (...)\u001b[0m\n\u001b[1;32m    403\u001b[0m \u001b[38;5;124;03m    :return:\u001b[39;00m\n\u001b[1;32m    404\u001b[0m \u001b[38;5;124;03m    \"\"\"\u001b[39;00m\n\u001b[0;32m--> 405\u001b[0m     \u001b[38;5;28;01mreturn\u001b[39;00m \u001b[38;5;28;43mself\u001b[39;49m\u001b[38;5;241;43m.\u001b[39;49m\u001b[43mauto\u001b[49m\u001b[43m(\u001b[49m\u001b[43m)\u001b[49m\u001b[38;5;241;43m.\u001b[39;49m\u001b[43mrun\u001b[49m\u001b[43m(\u001b[49m\u001b[43mcypher\u001b[49m\u001b[43m,\u001b[49m\u001b[43m \u001b[49m\u001b[43mparameters\u001b[49m\u001b[43m,\u001b[49m\u001b[43m \u001b[49m\u001b[38;5;241;43m*\u001b[39;49m\u001b[38;5;241;43m*\u001b[39;49m\u001b[43mkwparameters\u001b[49m\u001b[43m)\u001b[49m\n",
      "File \u001b[0;32m~/miniconda3/envs/phd/lib/python3.12/site-packages/py2neo/database.py:989\u001b[0m, in \u001b[0;36mTransaction.run\u001b[0;34m(self, cypher, parameters, **kwparameters)\u001b[0m\n\u001b[1;32m    987\u001b[0m     result \u001b[38;5;241m=\u001b[39m \u001b[38;5;28mself\u001b[39m\u001b[38;5;241m.\u001b[39m_connector\u001b[38;5;241m.\u001b[39mrun(\u001b[38;5;28mself\u001b[39m\u001b[38;5;241m.\u001b[39mref, cypher, parameters)\n\u001b[1;32m    988\u001b[0m \u001b[38;5;28;01melse\u001b[39;00m:\n\u001b[0;32m--> 989\u001b[0m     result \u001b[38;5;241m=\u001b[39m \u001b[38;5;28;43mself\u001b[39;49m\u001b[38;5;241;43m.\u001b[39;49m\u001b[43m_connector\u001b[49m\u001b[38;5;241;43m.\u001b[39;49m\u001b[43mauto_run\u001b[49m\u001b[43m(\u001b[49m\u001b[43mcypher\u001b[49m\u001b[43m,\u001b[49m\u001b[43m \u001b[49m\u001b[43mparameters\u001b[49m\u001b[43m,\u001b[49m\n\u001b[1;32m    990\u001b[0m \u001b[43m                                      \u001b[49m\u001b[43mgraph_name\u001b[49m\u001b[38;5;241;43m=\u001b[39;49m\u001b[38;5;28;43mself\u001b[39;49m\u001b[38;5;241;43m.\u001b[39;49m\u001b[43mgraph\u001b[49m\u001b[38;5;241;43m.\u001b[39;49m\u001b[43mname\u001b[49m\u001b[43m,\u001b[49m\n\u001b[1;32m    991\u001b[0m \u001b[43m                                      \u001b[49m\u001b[43mreadonly\u001b[49m\u001b[38;5;241;43m=\u001b[39;49m\u001b[38;5;28;43mself\u001b[39;49m\u001b[38;5;241;43m.\u001b[39;49m\u001b[43mreadonly\u001b[49m\u001b[43m)\u001b[49m\n\u001b[1;32m    992\u001b[0m \u001b[38;5;28mself\u001b[39m\u001b[38;5;241m.\u001b[39m_connector\u001b[38;5;241m.\u001b[39mpull(result, \u001b[38;5;241m-\u001b[39m\u001b[38;5;241m1\u001b[39m)\n\u001b[1;32m    993\u001b[0m \u001b[38;5;28;01mreturn\u001b[39;00m Cursor(result, hydrant)\n",
      "File \u001b[0;32m~/miniconda3/envs/phd/lib/python3.12/site-packages/py2neo/client/__init__.py:1338\u001b[0m, in \u001b[0;36mConnector.auto_run\u001b[0;34m(self, cypher, parameters, graph_name, readonly)\u001b[0m\n\u001b[1;32m   1321\u001b[0m \u001b[38;5;28;01mdef\u001b[39;00m \u001b[38;5;21mauto_run\u001b[39m(\u001b[38;5;28mself\u001b[39m, cypher, parameters\u001b[38;5;241m=\u001b[39m\u001b[38;5;28;01mNone\u001b[39;00m, graph_name\u001b[38;5;241m=\u001b[39m\u001b[38;5;28;01mNone\u001b[39;00m, readonly\u001b[38;5;241m=\u001b[39m\u001b[38;5;28;01mFalse\u001b[39;00m,\n\u001b[1;32m   1322\u001b[0m              \u001b[38;5;66;03m# after=None, metadata=None, timeout=None\u001b[39;00m\n\u001b[1;32m   1323\u001b[0m              ):\n\u001b[1;32m   1324\u001b[0m \u001b[38;5;250m    \u001b[39m\u001b[38;5;124;03m\"\"\" Run a Cypher query within a new auto-commit transaction.\u001b[39;00m\n\u001b[1;32m   1325\u001b[0m \n\u001b[1;32m   1326\u001b[0m \u001b[38;5;124;03m    :param cypher:\u001b[39;00m\n\u001b[0;32m   (...)\u001b[0m\n\u001b[1;32m   1336\u001b[0m \u001b[38;5;124;03m        cannot be honoured\u001b[39;00m\n\u001b[1;32m   1337\u001b[0m \u001b[38;5;124;03m    \"\"\"\u001b[39;00m\n\u001b[0;32m-> 1338\u001b[0m     cx \u001b[38;5;241m=\u001b[39m \u001b[38;5;28;43mself\u001b[39;49m\u001b[38;5;241;43m.\u001b[39;49m\u001b[43m_acquire\u001b[49m\u001b[43m(\u001b[49m\u001b[43mgraph_name\u001b[49m\u001b[43m)\u001b[49m\n\u001b[1;32m   1339\u001b[0m     \u001b[38;5;28;01mtry\u001b[39;00m:\n\u001b[1;32m   1340\u001b[0m         \u001b[38;5;28;01mreturn\u001b[39;00m cx\u001b[38;5;241m.\u001b[39mauto_run(cypher, parameters, graph_name\u001b[38;5;241m=\u001b[39mgraph_name, readonly\u001b[38;5;241m=\u001b[39mreadonly)\n",
      "File \u001b[0;32m~/miniconda3/envs/phd/lib/python3.12/site-packages/py2neo/client/__init__.py:1111\u001b[0m, in \u001b[0;36mConnector._acquire\u001b[0;34m(self, graph_name, readonly)\u001b[0m\n\u001b[1;32m   1109\u001b[0m     \u001b[38;5;28;01mreturn\u001b[39;00m \u001b[38;5;28mself\u001b[39m\u001b[38;5;241m.\u001b[39m_acquire_ro(graph_name)\n\u001b[1;32m   1110\u001b[0m \u001b[38;5;28;01melse\u001b[39;00m:\n\u001b[0;32m-> 1111\u001b[0m     \u001b[38;5;28;01mreturn\u001b[39;00m \u001b[38;5;28;43mself\u001b[39;49m\u001b[38;5;241;43m.\u001b[39;49m\u001b[43m_acquire_rw\u001b[49m\u001b[43m(\u001b[49m\u001b[43mgraph_name\u001b[49m\u001b[43m)\u001b[49m\n",
      "File \u001b[0;32m~/miniconda3/envs/phd/lib/python3.12/site-packages/py2neo/client/__init__.py:1203\u001b[0m, in \u001b[0;36mConnector._acquire_rw\u001b[0;34m(self, graph_name)\u001b[0m\n\u001b[1;32m   1199\u001b[0m \u001b[38;5;66;03m# TODO: exit immediately if the server/cluster is in readonly mode\u001b[39;00m\n\u001b[1;32m   1201\u001b[0m \u001b[38;5;28;01mwhile\u001b[39;00m \u001b[38;5;28;01mTrue\u001b[39;00m:\n\u001b[0;32m-> 1203\u001b[0m     ro_profiles, rw_profiles \u001b[38;5;241m=\u001b[39m \u001b[38;5;28;43mself\u001b[39;49m\u001b[38;5;241;43m.\u001b[39;49m\u001b[43m_get_profiles\u001b[49m\u001b[43m(\u001b[49m\u001b[43mgraph_name\u001b[49m\u001b[43m,\u001b[49m\u001b[43m \u001b[49m\u001b[43mreadonly\u001b[49m\u001b[38;5;241;43m=\u001b[39;49m\u001b[38;5;28;43;01mFalse\u001b[39;49;00m\u001b[43m)\u001b[49m\n\u001b[1;32m   1204\u001b[0m     \u001b[38;5;28;01mif\u001b[39;00m rw_profiles:\n\u001b[1;32m   1205\u001b[0m         \u001b[38;5;66;03m# There is at least one writer, so collect the pools\u001b[39;00m\n\u001b[1;32m   1206\u001b[0m         \u001b[38;5;66;03m# for those writers. In all implementations to date,\u001b[39;00m\n\u001b[1;32m   1207\u001b[0m         \u001b[38;5;66;03m# a Neo4j cluster will only ever contain at most one\u001b[39;00m\n\u001b[1;32m   1208\u001b[0m         \u001b[38;5;66;03m# writer (per database). But this algorithm should\u001b[39;00m\n\u001b[1;32m   1209\u001b[0m         \u001b[38;5;66;03m# still survive if that changes.\u001b[39;00m\n\u001b[1;32m   1210\u001b[0m         pools \u001b[38;5;241m=\u001b[39m [pool \u001b[38;5;28;01mfor\u001b[39;00m profile, pool \u001b[38;5;129;01min\u001b[39;00m \u001b[38;5;28mlist\u001b[39m(\u001b[38;5;28mself\u001b[39m\u001b[38;5;241m.\u001b[39m_pools\u001b[38;5;241m.\u001b[39mitems())\n\u001b[1;32m   1211\u001b[0m                  \u001b[38;5;28;01mif\u001b[39;00m profile \u001b[38;5;129;01min\u001b[39;00m rw_profiles]\n",
      "File \u001b[0;32m~/miniconda3/envs/phd/lib/python3.12/site-packages/py2neo/client/__init__.py:1016\u001b[0m, in \u001b[0;36mConnector._get_profiles\u001b[0;34m(self, graph_name, readonly)\u001b[0m\n\u001b[1;32m   1014\u001b[0m         rt\u001b[38;5;241m.\u001b[39mwait_until_updated()\n\u001b[1;32m   1015\u001b[0m \u001b[38;5;28;01melse\u001b[39;00m:\n\u001b[0;32m-> 1016\u001b[0m     \u001b[38;5;28;43mself\u001b[39;49m\u001b[38;5;241;43m.\u001b[39;49m\u001b[43mrefresh_routing_table\u001b[49m\u001b[43m(\u001b[49m\u001b[43mgraph_name\u001b[49m\u001b[43m)\u001b[49m\n",
      "File \u001b[0;32m~/miniconda3/envs/phd/lib/python3.12/site-packages/py2neo/client/__init__.py:1064\u001b[0m, in \u001b[0;36mConnector.refresh_routing_table\u001b[0;34m(self, graph_name)\u001b[0m\n\u001b[1;32m   1062\u001b[0m                 cx\u001b[38;5;241m.\u001b[39mrelease()\n\u001b[1;32m   1063\u001b[0m     \u001b[38;5;28;01melse\u001b[39;00m:\n\u001b[0;32m-> 1064\u001b[0m         \u001b[38;5;28;01mraise\u001b[39;00m ServiceUnavailable(\u001b[38;5;124m\"\u001b[39m\u001b[38;5;124mCannot connect to any known routers\u001b[39m\u001b[38;5;124m\"\u001b[39m)\n\u001b[1;32m   1065\u001b[0m \u001b[38;5;28;01mfinally\u001b[39;00m:\n\u001b[1;32m   1066\u001b[0m     rt\u001b[38;5;241m.\u001b[39mset_not_updating()\n",
      "\u001b[0;31mServiceUnavailable\u001b[0m: Cannot connect to any known routers"
     ]
    }
   ],
   "source": [
    "graph.run(f\"MATCH (n:{s.get_most_similar_entity(\"Alfred B. DelBello\")}) RETURN n;\").data()"
   ]
  },
  {
   "cell_type": "code",
   "execution_count": 75,
   "id": "85c309cf-d70b-4c3b-8c16-f203ffa6ea0f",
   "metadata": {},
   "outputs": [
    {
     "data": {
      "text/plain": [
       "[{'n': Node('roger', id='roger')}]"
      ]
     },
     "execution_count": 75,
     "metadata": {},
     "output_type": "execute_result"
    }
   ],
   "source": [
    "graph.run(f\"MATCH (n:roger) RETURN n;\").data()"
   ]
  },
  {
   "cell_type": "code",
   "execution_count": 2,
   "id": "4d9f2d0b-a9d6-4119-8c17-590852dc620a",
   "metadata": {},
   "outputs": [],
   "source": [
    "kwe = KeywordExtractor()"
   ]
  },
  {
   "cell_type": "code",
   "execution_count": 22,
   "id": "a082bc98-c96f-49ce-9cf3-3a4252a04de9",
   "metadata": {},
   "outputs": [
    {
     "data": {
      "text/plain": [
       "['mr mind el']"
      ]
     },
     "execution_count": 22,
     "metadata": {},
     "output_type": "execute_result"
    }
   ],
   "source": [
    "kwe.extract_named_entities(\"who is Mr. Mindel?\")"
   ]
  },
  {
   "cell_type": "code",
   "execution_count": null,
   "id": "f25d92d0-7017-49e9-b169-813546a97d9c",
   "metadata": {},
   "outputs": [],
   "source": [
    "kwe.extract_named_entities(\"\")"
   ]
  },
  {
   "cell_type": "code",
   "execution_count": 146,
   "id": "6582f83e-2074-4bea-a60b-46b1d46ad9e2",
   "metadata": {},
   "outputs": [
    {
     "ename": "NameError",
     "evalue": "name 'kwe' is not defined",
     "output_type": "error",
     "traceback": [
      "\u001b[0;31m---------------------------------------------------------------------------\u001b[0m",
      "\u001b[0;31mNameError\u001b[0m                                 Traceback (most recent call last)",
      "Cell \u001b[0;32mIn[146], line 1\u001b[0m\n\u001b[0;32m----> 1\u001b[0m \u001b[43mkwe\u001b[49m\n",
      "\u001b[0;31mNameError\u001b[0m: name 'kwe' is not defined"
     ]
    }
   ],
   "source": [
    "kwe"
   ]
  },
  {
   "cell_type": "code",
   "execution_count": null,
   "id": "f52ab76d-904f-47a1-aa3d-00abb1a70318",
   "metadata": {},
   "outputs": [],
   "source": []
  }
 ],
 "metadata": {
  "kernelspec": {
   "display_name": "Python 3 (ipykernel)",
   "language": "python",
   "name": "python3"
  },
  "language_info": {
   "codemirror_mode": {
    "name": "ipython",
    "version": 3
   },
   "file_extension": ".py",
   "mimetype": "text/x-python",
   "name": "python",
   "nbconvert_exporter": "python",
   "pygments_lexer": "ipython3",
   "version": "3.12.2"
  }
 },
 "nbformat": 4,
 "nbformat_minor": 5
}
